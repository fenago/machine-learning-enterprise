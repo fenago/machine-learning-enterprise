{
 "cells": [
  {
   "cell_type": "markdown",
   "metadata": {},
   "source": [
    "# Gini index calculation"
   ]
  },
  {
   "cell_type": "code",
   "execution_count": null,
   "metadata": {},
   "outputs": [],
   "source": [
    "from __future__ import division\n",
    "import numpy as np"
   ]
  },
  {
   "cell_type": "code",
   "execution_count": null,
   "metadata": {},
   "outputs": [],
   "source": [
    "elements = ['A', 'A', 'A', 'C', 'B', 'C']\n",
    "def counts(elements):\n",
    "    classes = {}\n",
    "    for element in elements:\n",
    "        if element in classes:\n",
    "            classes[element] += 1\n",
    "        else:\n",
    "            classes[element] = 1\n",
    "    return [classes[e] for e in classes]\n",
    "counts(elements)"
   ]
  },
  {
   "cell_type": "code",
   "execution_count": null,
   "metadata": {},
   "outputs": [],
   "source": [
    "def gini(elements):\n",
    "    cts = counts(elements)\n",
    "    n = sum(cts)\n",
    "    return 1 - sum([p_i**2/n**2 for p_i in cts])\n",
    "gini(elements)"
   ]
  },
  {
   "cell_type": "code",
   "execution_count": null,
   "metadata": {},
   "outputs": [],
   "source": [
    "def entropy(elements):\n",
    "    if len(elements)==0:\n",
    "        return 0\n",
    "    cts = counts(elements)\n",
    "    n = sum(cts)\n",
    "    props = 1/n*np.array(cts)\n",
    "    return -np.dot(np.log2(props), props)\n",
    "entropy(elements)"
   ]
  },
  {
   "cell_type": "code",
   "execution_count": null,
   "metadata": {},
   "outputs": [],
   "source": [
    "for i in range(len(elements)):\n",
    "    print(\"************\")\n",
    "    left = elements[:i]\n",
    "    right = elements[i:]\n",
    "    print(left, right)\n",
    "    weighted_gini = 1/len(elements)*(gini(left)*len(left) + gini(right)*len(right))\n",
    "    print(\"Weighted Gini:\", weighted_gini)\n",
    "    weighted_entropy = 1/len(elements)*(entropy(left)*len(left) + entropy(right)*len(right))\n",
    "    print(\"Weighted entropy:\", weighted_entropy)"
   ]
  },
  {
   "cell_type": "code",
   "execution_count": null,
   "metadata": {},
   "outputs": [],
   "source": []
  }
 ],
 "metadata": {
  "kernelspec": {
   "display_name": "Python 3",
   "language": "python",
   "name": "python3"
  },
  "language_info": {
   "codemirror_mode": {
    "name": "ipython",
    "version": 3
   },
   "file_extension": ".py",
   "mimetype": "text/x-python",
   "name": "python",
   "nbconvert_exporter": "python",
   "pygments_lexer": "ipython3",
   "version": "3.7.3"
  }
 },
 "nbformat": 4,
 "nbformat_minor": 2
}
