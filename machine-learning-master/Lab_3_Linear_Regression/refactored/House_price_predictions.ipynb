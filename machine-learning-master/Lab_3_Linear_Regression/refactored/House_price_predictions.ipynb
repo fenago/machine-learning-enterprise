{
 "cells": [
  {
   "cell_type": "markdown",
   "metadata": {},
   "source": [
    "# House Price Predictions with Linear Regression"
   ]
  },
  {
   "cell_type": "code",
   "execution_count": null,
   "metadata": {},
   "outputs": [],
   "source": [
    "%run Coding_linear_regression.ipynb \n",
    "# allows us to use the functions we wrote\n",
    "\n",
    "import pandas"
   ]
  },
  {
   "cell_type": "markdown",
   "metadata": {},
   "source": [
    "### Exploring the relationship between price and area"
   ]
  },
  {
   "cell_type": "code",
   "execution_count": null,
   "metadata": {},
   "outputs": [],
   "source": [
    "data = pandas.read_csv('Hyderabad.csv')\n",
    "plot_scatter(\n",
    "    data['Area'], data['Price'], \"Housing Area\", \"Housing Price\")\n",
    "plt.show()"
   ]
  },
  {
   "cell_type": "markdown",
   "metadata": {},
   "source": [
    "## With turicreate"
   ]
  },
  {
   "cell_type": "markdown",
   "metadata": {},
   "source": [
    "### Testing a model with only one feature"
   ]
  },
  {
   "cell_type": "code",
   "execution_count": null,
   "metadata": {},
   "outputs": [],
   "source": [
    "import turicreate as tc\n",
    "data_tc = tc.SFrame('Hyderabad.csv')\n",
    "data"
   ]
  },
  {
   "cell_type": "code",
   "execution_count": null,
   "metadata": {},
   "outputs": [],
   "source": [
    "simple_model = tc.linear_regression.create(data_tc, features=['Area'], target='Price')\n",
    "simple_model.coefficients\n",
    "b, m = simple_model.coefficients['value']\n",
    "print(\"slope:\", m)\n",
    "print(\"y-intercept:\", b)\n",
    "\n",
    "plot_scatter(data_tc['Area'], data_tc['Price'])\n",
    "draw_line(m, b, starting=0, ending=max(data_tc['Area']))\n",
    "plt.show()"
   ]
  },
  {
   "cell_type": "markdown",
   "metadata": {},
   "source": [
    "# With statsmodels"
   ]
  },
  {
   "cell_type": "markdown",
   "metadata": {},
   "source": [
    "### Testing a model with only one feature\n",
    "\n",
    "statsmodels doesn't automatically add an intercept (constant bias) column, so we have to add that ourselves."
   ]
  },
  {
   "cell_type": "code",
   "execution_count": null,
   "metadata": {},
   "outputs": [],
   "source": [
    "import statsmodels.api as sm\n",
    "\n",
    "exog = sm.add_constant(data['Area']) # adds an intercept column\n",
    "model_linear_regression = sm.OLS(\n",
    "    endog = data['Price'],\n",
    "    exog = exog)\n",
    "results_regression = model_linear_regression.fit()"
   ]
  },
  {
   "cell_type": "code",
   "execution_count": null,
   "metadata": {},
   "outputs": [],
   "source": [
    "results_regression.summary()"
   ]
  },
  {
   "cell_type": "code",
   "execution_count": null,
   "metadata": {},
   "outputs": [],
   "source": [
    "results_regression.params"
   ]
  },
  {
   "cell_type": "code",
   "execution_count": null,
   "metadata": {},
   "outputs": [],
   "source": [
    "plot_scatter(\n",
    "    data['Area'], data['Price'], \"Housing Area\", \"Housing Price\")\n",
    "draw_line(*results_regression.params[::-1], starting=0, ending=max(data['Area']))\n",
    "plt.show()"
   ]
  },
  {
   "cell_type": "code",
   "execution_count": null,
   "metadata": {},
   "outputs": [],
   "source": [
    "plot_scatter(\n",
    "    results_regression.fittedvalues,\n",
    "    results_regression.resid,\n",
    "    x_label = \"Fitted Values\",\n",
    "    y_label = \"Residual Values\")\n",
    "plt.show()\n",
    "# Not sure why it plots twice\n",
    "sm.qqplot(results_regression.resid_pearson, line = \"q\")"
   ]
  },
  {
   "cell_type": "markdown",
   "metadata": {},
   "source": [
    "### Building a model that uses all the features\n",
    "\n",
    "statsmodels doesn't handle categorical values for us, so we need to adjust our dataset using `pandas.get_dummies()`"
   ]
  },
  {
   "cell_type": "code",
   "execution_count": null,
   "metadata": {},
   "outputs": [],
   "source": [
    "exog = data.copy()\n",
    "exog = sm.add_constant(exog) # adds an intercept column\n",
    "exog = pandas.get_dummies(exog) # Converts categorical to one-hot\n",
    "endog = exog.pop(\"Price\")\n",
    "\n",
    "model_linear_regression = sm.OLS(\n",
    "    endog = endog,\n",
    "    exog = exog)\n",
    "results_regression = model_linear_regression.fit()"
   ]
  },
  {
   "cell_type": "code",
   "execution_count": null,
   "metadata": {},
   "outputs": [],
   "source": [
    "results_regression.summary() # yields a very large printout"
   ]
  },
  {
   "cell_type": "code",
   "execution_count": null,
   "metadata": {},
   "outputs": [],
   "source": [
    "results_regression.params"
   ]
  },
  {
   "cell_type": "code",
   "execution_count": null,
   "metadata": {},
   "outputs": [],
   "source": [
    "plot_scatter(\n",
    "    results_regression.fittedvalues,\n",
    "    results_regression.resid,\n",
    "    x_label = \"Fitted Values\",\n",
    "    y_label = \"Residual Values\")\n",
    "plt.show()\n",
    "# Not sure why it plots twice\n",
    "sm.qqplot(results_regression.resid_pearson, line = \"q\")"
   ]
  },
  {
   "cell_type": "code",
   "execution_count": null,
   "metadata": {},
   "outputs": [],
   "source": [
    "house = { 'No. of Bedrooms' : 3, 'Area': 1000 }\n",
    "\n",
    "def predict_linear_regression(fitted_model, dict_features):\n",
    "    \"\"\" \n",
    "    Calculates y ~ const + sum( parameter*value )\n",
    "\n",
    "    { 'feature name' : value }\n",
    "    \n",
    "    Does not assume you have all features present, so prediction may be off.\n",
    "    Assumes const parameter is not present in dictionary\n",
    "    \"\"\"\n",
    "    list_given_terms = [\n",
    "        fitted_model.params[key]*value for key, value in dict_features.items()\n",
    "    ]\n",
    "    constant_value = fitted_model.params['const']\n",
    "    list_given_terms.append(constant_value)\n",
    "    \n",
    "    return sum(list_given_terms)\n",
    "\n",
    "prediction = predict_linear_regression(results_regression, house)\n",
    "print(\"Predicted housing price:\", prediction)"
   ]
  },
  {
   "cell_type": "code",
   "execution_count": null,
   "metadata": {},
   "outputs": [],
   "source": []
  }
 ],
 "metadata": {
  "kernelspec": {
   "display_name": "Python 3",
   "language": "python",
   "name": "python3"
  },
  "language_info": {
   "codemirror_mode": {
    "name": "ipython",
    "version": 3
   },
   "file_extension": ".py",
   "mimetype": "text/x-python",
   "name": "python",
   "nbconvert_exporter": "python",
   "pygments_lexer": "ipython3",
   "version": "3.7.3"
  }
 },
 "nbformat": 4,
 "nbformat_minor": 5
}
