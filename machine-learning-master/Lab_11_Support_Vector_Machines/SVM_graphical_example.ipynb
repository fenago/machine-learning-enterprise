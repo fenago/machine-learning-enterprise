{
 "cells": [
  {
   "cell_type": "code",
   "execution_count": null,
   "metadata": {},
   "outputs": [],
   "source": [
    "import pandas as pd\n",
    "import numpy as np\n",
    "import matplotlib.pyplot as plt\n",
    "import utils\n",
    "from sklearn.svm import SVC"
   ]
  },
  {
   "cell_type": "markdown",
   "metadata": {},
   "source": [
    "# Building an SVM to separate a linear dataset"
   ]
  },
  {
   "cell_type": "code",
   "execution_count": null,
   "metadata": {},
   "outputs": [],
   "source": [
    "# Loading the linear dataset\n",
    "\n",
    "linear_data = pd.read_csv('linear.csv')\n",
    "features = np.array(linear_data[['x_1', 'x_2']])\n",
    "labels = np.array(linear_data['y'])\n",
    "utils.plot_points(features, labels)"
   ]
  },
  {
   "cell_type": "code",
   "execution_count": null,
   "metadata": {},
   "outputs": [],
   "source": [
    "svm_linear = SVC(kernel='linear')\n",
    "svm_linear.fit(features, labels)\n",
    "print(\"Accuracy:\", svm_linear.score(features, labels))\n",
    "utils.plot_model(features, labels, svm_linear)"
   ]
  },
  {
   "cell_type": "code",
   "execution_count": null,
   "metadata": {},
   "outputs": [],
   "source": [
    "# C = 0.01\n",
    "svm_c_001 = SVC(kernel='linear', C=0.01)\n",
    "svm_c_001.fit(features, labels)\n",
    "print(\"C = 0.01\")\n",
    "print(\"Accuracy:\", svm_c_001.score(features, labels))\n",
    "utils.plot_model(features, labels, svm_c_001)\n",
    "\n",
    "# C = 100\n",
    "svm_c_100 = SVC(kernel='linear', C=100)\n",
    "svm_c_100.fit(features, labels)\n",
    "print(\"C = 100\")\n",
    "print(\"Accuracy:\", svm_c_100.score(features, labels))\n",
    "utils.plot_model(features, labels, svm_c_100)"
   ]
  },
  {
   "cell_type": "markdown",
   "metadata": {},
   "source": [
    "# Building polynomial kernels for a circular dataset"
   ]
  },
  {
   "cell_type": "code",
   "execution_count": null,
   "metadata": {},
   "outputs": [],
   "source": [
    "# Loading the one_circle dataset\n",
    "\n",
    "circular_data = pd.read_csv('one_circle.csv')\n",
    "features = np.array(circular_data[['x_1', 'x_2']])\n",
    "labels = np.array(circular_data['y'])\n",
    "utils.plot_points(features, labels)"
   ]
  },
  {
   "cell_type": "code",
   "execution_count": null,
   "metadata": {},
   "outputs": [],
   "source": [
    "# Degree = 2\n",
    "svm_degree_2 = SVC(kernel='poly', degree=2)\n",
    "svm_degree_2.fit(features, labels)\n",
    "print(\"Polynomial kernel of degree = 2\")\n",
    "print(\"Accuracy:\", svm_degree_2.score(features, labels))\n",
    "utils.plot_model(features, labels, svm_degree_2)\n",
    "\n",
    "# Degree = 4\n",
    "svm_degree_4 = SVC(kernel='poly', degree=4)\n",
    "svm_degree_4.fit(features, labels)\n",
    "print(\"Polynomial kernel of degree = 4\")\n",
    "print(\"Accuracy:\", svm_degree_4.score(features, labels))\n",
    "utils.plot_model(features, labels, svm_degree_4)"
   ]
  },
  {
   "cell_type": "markdown",
   "metadata": {},
   "source": [
    "# Experimenting with gammas in the rbf kernel"
   ]
  },
  {
   "cell_type": "code",
   "execution_count": null,
   "metadata": {},
   "outputs": [],
   "source": [
    "# Loading the two_circles dataset\n",
    "\n",
    "two_circles_data = pd.read_csv('two_circles.csv')\n",
    "features = np.array(two_circles_data[['x_1', 'x_2']])\n",
    "labels = np.array(two_circles_data['y'])\n",
    "utils.plot_points(features, labels)"
   ]
  },
  {
   "cell_type": "code",
   "execution_count": null,
   "metadata": {},
   "outputs": [],
   "source": [
    "# gamma = 0.1\n",
    "svm_gamma_01 = SVC(kernel='rbf', gamma=0.1)\n",
    "svm_gamma_01.fit(features, labels)\n",
    "print(\"Gamma = 0.1\")\n",
    "print(\"Accuracy:\", svm_gamma_01.score(features, labels))\n",
    "utils.plot_model(features, labels, svm_gamma_01)\n",
    "\n",
    "# gamma = 1\n",
    "svm_gamma_1 = SVC(kernel='rbf', gamma=1)\n",
    "svm_gamma_1.fit(features, labels)\n",
    "print(\"Gamma = 1\")\n",
    "print(\"Accuracy:\", svm_gamma_1.score(features, labels))\n",
    "utils.plot_model(features, labels, svm_gamma_1)\n",
    "\n",
    "# gamma = 10\n",
    "svm_gamma_10 = SVC(kernel='rbf', gamma=10)\n",
    "svm_gamma_10.fit(features, labels)\n",
    "print(\"Gamma = 10\")\n",
    "print(\"Accuracy:\", svm_gamma_10.score(features, labels))\n",
    "utils.plot_model(features, labels, svm_gamma_10)\n",
    "\n",
    "# gamma = 100\n",
    "svm_gamma_100 = SVC(kernel='rbf', gamma=100)\n",
    "svm_gamma_100.fit(features, labels)\n",
    "print(\"Gamma = 100\")\n",
    "print(\"Accuracy:\", svm_gamma_100.score(features, labels))\n",
    "utils.plot_model(features, labels, svm_gamma_100)"
   ]
  },
  {
   "cell_type": "code",
   "execution_count": null,
   "metadata": {},
   "outputs": [],
   "source": []
  }
 ],
 "metadata": {
  "kernelspec": {
   "display_name": "Python 3",
   "language": "python",
   "name": "python3"
  },
  "language_info": {
   "codemirror_mode": {
    "name": "ipython",
    "version": 3
   },
   "file_extension": ".py",
   "mimetype": "text/x-python",
   "name": "python",
   "nbconvert_exporter": "python",
   "pygments_lexer": "ipython3",
   "version": "3.7.3"
  }
 },
 "nbformat": 4,
 "nbformat_minor": 4
}
