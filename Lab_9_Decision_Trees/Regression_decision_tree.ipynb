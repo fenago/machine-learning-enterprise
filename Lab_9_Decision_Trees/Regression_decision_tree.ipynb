{
 "cells": [
  {
   "cell_type": "markdown",
   "metadata": {},
   "source": [
    "# Decision trees for regression"
   ]
  },
  {
   "cell_type": "code",
   "execution_count": null,
   "metadata": {},
   "outputs": [],
   "source": [
    "import numpy as np\n",
    "import pandas as pd\n",
    "from sklearn.tree import DecisionTreeRegressor\n",
    "import utils\n",
    "import matplotlib.pyplot as plt"
   ]
  },
  {
   "cell_type": "code",
   "execution_count": null,
   "metadata": {},
   "outputs": [],
   "source": [
    "features = [[10],[20],[30],[40],[50],[60],[70],[80]]\n",
    "labels = [7,5,7,1,2,1,5,4]"
   ]
  },
  {
   "cell_type": "code",
   "execution_count": null,
   "metadata": {},
   "outputs": [],
   "source": [
    "plt.scatter(features, labels)\n",
    "plt.xlabel(\"Age\")\n",
    "plt.ylabel(\"Days per week\")\n",
    "plt.show()"
   ]
  },
  {
   "cell_type": "code",
   "execution_count": null,
   "metadata": {},
   "outputs": [],
   "source": [
    "dt_regressor = DecisionTreeRegressor(max_depth=2)\n",
    "dt_regressor.fit(features, labels)"
   ]
  },
  {
   "cell_type": "code",
   "execution_count": null,
   "metadata": {},
   "outputs": [],
   "source": [
    "utils.display_tree(dt_regressor)"
   ]
  },
  {
   "cell_type": "code",
   "execution_count": null,
   "metadata": {},
   "outputs": [],
   "source": [
    "utils.plot_regressor(dt_regressor, features, labels)"
   ]
  },
  {
   "cell_type": "markdown",
   "metadata": {},
   "source": [
    "# Finding the first split by mimizing the MSE"
   ]
  },
  {
   "cell_type": "code",
   "execution_count": null,
   "metadata": {},
   "outputs": [],
   "source": [
    "for i in range(0,9):\n",
    "    left = np.array(labels[:i])\n",
    "    right = np.array(labels[i:])\n",
    "    print(\"*****\")\n",
    "    print(left, right)\n",
    "    print(np.mean(left), np.mean(right))\n",
    "    left_tse = left-np.mean(left)\n",
    "    right_tse = right-np.mean(right)\n",
    "    print(1/8*(np.dot(left_tse, left_tse) + np.dot(right_tse, right_tse)))"
   ]
  },
  {
   "cell_type": "code",
   "execution_count": null,
   "metadata": {},
   "outputs": [],
   "source": [
    "1/8*(\n",
    "    (7-3.833)**2 +\n",
    "    (5-3.833)**2 +\n",
    "    (7-3.833)**2 +\n",
    "    (1-3.833)**2 +\n",
    "    (2-3.833)**2 +\n",
    "    (1-3.833)**2 +\n",
    "    (5-4.5)**2 +\n",
    "    (4-4.5)**2)"
   ]
  },
  {
   "cell_type": "code",
   "execution_count": null,
   "metadata": {},
   "outputs": [],
   "source": [
    "np.array([7,5,7,1,2,1,5,4]).mean()"
   ]
  },
  {
   "cell_type": "code",
   "execution_count": null,
   "metadata": {},
   "outputs": [],
   "source": []
  }
 ],
 "metadata": {
  "kernelspec": {
   "display_name": "Python 3",
   "language": "python",
   "name": "python3"
  },
  "language_info": {
   "codemirror_mode": {
    "name": "ipython",
    "version": 3
   },
   "file_extension": ".py",
   "mimetype": "text/x-python",
   "name": "python",
   "nbconvert_exporter": "python",
   "pygments_lexer": "ipython3",
   "version": "3.7.3"
  }
 },
 "nbformat": 4,
 "nbformat_minor": 4
}
