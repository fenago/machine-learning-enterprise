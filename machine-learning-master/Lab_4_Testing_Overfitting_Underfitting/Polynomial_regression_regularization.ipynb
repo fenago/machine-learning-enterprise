{
 "cells": [
  {
   "cell_type": "markdown",
   "metadata": {},
   "source": [
    "# Lab 4: Testing and regularization with Turi Create"
   ]
  },
  {
   "cell_type": "code",
   "execution_count": null,
   "metadata": {},
   "outputs": [],
   "source": [
    "import pandas as pd\n",
    "import numpy as np\n",
    "import random\n",
    "import matplotlib.pyplot as plt\n",
    "random.seed(0)"
   ]
  },
  {
   "cell_type": "markdown",
   "metadata": {},
   "source": [
    "## Defining our dataset"
   ]
  },
  {
   "cell_type": "code",
   "execution_count": null,
   "metadata": {},
   "outputs": [],
   "source": [
    "# Our original polynomial is -x^2+x+15\n",
    "coefs = [15,1,-1]\n",
    "\n",
    "def polynomial(coefs, x):\n",
    "    n = len(coefs)\n",
    "    return sum([coefs[i]*x**i for i in range(n)])\n",
    "\n",
    "def draw_polynomial(coefs):\n",
    "    n = len(coefs)\n",
    "    x = np.linspace(-5, 5, 1000)\n",
    "    plt.ylim(-20,20)\n",
    "    plt.plot(x, sum([coefs[i]*x**i for i in range(n)]), linestyle='-', color='black')\n",
    "\n",
    "draw_polynomial(coefs)"
   ]
  },
  {
   "cell_type": "code",
   "execution_count": null,
   "metadata": {},
   "outputs": [],
   "source": [
    "X = []\n",
    "Y = []\n",
    "for i in range(40):\n",
    "    x = random.uniform(-5,5)\n",
    "    y = polynomial(coefs, x) + random.gauss(0,2)\n",
    "    X.append(x)\n",
    "    Y.append(y)"
   ]
  },
  {
   "cell_type": "code",
   "execution_count": null,
   "metadata": {},
   "outputs": [],
   "source": [
    "plt.scatter(X, Y)\n",
    "#draw_polynomial(coefs)"
   ]
  },
  {
   "cell_type": "markdown",
   "metadata": {},
   "source": [
    "## Training a polynomial regression model"
   ]
  },
  {
   "cell_type": "code",
   "execution_count": null,
   "metadata": {},
   "outputs": [],
   "source": [
    "import turicreate as tc"
   ]
  },
  {
   "cell_type": "code",
   "execution_count": null,
   "metadata": {},
   "outputs": [],
   "source": [
    "data = tc.SFrame({'x':X, 'y':Y})\n",
    "data"
   ]
  },
  {
   "cell_type": "markdown",
   "metadata": {},
   "source": [
    "### Adding columns to our dataset corresponding to $x^2, x^3, \\ldots, x^{200}$"
   ]
  },
  {
   "cell_type": "code",
   "execution_count": null,
   "metadata": {},
   "outputs": [],
   "source": [
    "for i in range(2,200):\n",
    "    string = 'x^'+str(i)\n",
    "    data[string] = data['x'].apply(lambda x:x**i)\n",
    "data"
   ]
  },
  {
   "cell_type": "markdown",
   "metadata": {},
   "source": [
    "## Splitting data into training and testing"
   ]
  },
  {
   "cell_type": "code",
   "execution_count": null,
   "metadata": {},
   "outputs": [],
   "source": [
    "train, test = data.random_split(.8, seed=0)"
   ]
  },
  {
   "cell_type": "code",
   "execution_count": null,
   "metadata": {},
   "outputs": [],
   "source": [
    "def display_results(model):\n",
    "    coefs = model.coefficients\n",
    "    print(\"Training error (rmse):\", model.evaluate(train)['rmse'])\n",
    "    print(\"Testing error (rmse):\", model.evaluate(test)['rmse'])\n",
    "    plt.scatter(train['x'], train['y'], marker='o')\n",
    "    plt.scatter(test['x'], test['y'], marker='^')\n",
    "    draw_polynomial(coefs['value'])\n",
    "    plt.show()\n",
    "    print(\"Polynomial coefficients\")\n",
    "    print(coefs['name', 'value'])"
   ]
  },
  {
   "cell_type": "markdown",
   "metadata": {},
   "source": [
    "## Training a polynomial regression model with no regularization"
   ]
  },
  {
   "cell_type": "code",
   "execution_count": null,
   "metadata": {},
   "outputs": [],
   "source": [
    "model_no_reg = tc.linear_regression.create(\n",
    "    train, target='y', l1_penalty=0.0, l2_penalty=0.0, verbose=False, validation_set=None)"
   ]
  },
  {
   "cell_type": "code",
   "execution_count": null,
   "metadata": {},
   "outputs": [],
   "source": [
    "display_results(model_no_reg)"
   ]
  },
  {
   "cell_type": "markdown",
   "metadata": {},
   "source": [
    "## Training a polynomial regression model with L1 regularization"
   ]
  },
  {
   "cell_type": "code",
   "execution_count": null,
   "metadata": {},
   "outputs": [],
   "source": [
    "model_L1_reg = tc.linear_regression.create(\n",
    "    train, target='y', l1_penalty=0.1, l2_penalty=0.0, verbose=False, validation_set=None)"
   ]
  },
  {
   "cell_type": "code",
   "execution_count": null,
   "metadata": {},
   "outputs": [],
   "source": [
    "display_results(model_L1_reg)"
   ]
  },
  {
   "cell_type": "markdown",
   "metadata": {},
   "source": [
    "## Training a polynomial regression model with L2 regularization"
   ]
  },
  {
   "cell_type": "code",
   "execution_count": null,
   "metadata": {},
   "outputs": [],
   "source": [
    "model_L2_reg = tc.linear_regression.create(\n",
    "    train, target='y', l1_penalty=0.0, l2_penalty=0.1, verbose=False, validation_set=None)"
   ]
  },
  {
   "cell_type": "code",
   "execution_count": null,
   "metadata": {},
   "outputs": [],
   "source": [
    "display_results(model_L2_reg)"
   ]
  },
  {
   "cell_type": "markdown",
   "metadata": {},
   "source": [
    "## Viewing the predictions in the testing set"
   ]
  },
  {
   "cell_type": "code",
   "execution_count": null,
   "metadata": {},
   "outputs": [],
   "source": [
    "predictions = test['x', 'y']\n",
    "predictions['No reg'] = model_no_reg.predict(test)\n",
    "predictions['L1 reg'] = model_L1_reg.predict(test)\n",
    "predictions['L2 reg'] = model_L2_reg.predict(test)"
   ]
  },
  {
   "cell_type": "code",
   "execution_count": null,
   "metadata": {},
   "outputs": [],
   "source": [
    "predictions"
   ]
  },
  {
   "cell_type": "code",
   "execution_count": null,
   "metadata": {},
   "outputs": [],
   "source": []
  }
 ],
 "metadata": {
  "kernelspec": {
   "display_name": "Python 3",
   "language": "python",
   "name": "python3"
  },
  "language_info": {
   "codemirror_mode": {
    "name": "ipython",
    "version": 3
   },
   "file_extension": ".py",
   "mimetype": "text/x-python",
   "name": "python",
   "nbconvert_exporter": "python",
   "pygments_lexer": "ipython3",
   "version": "3.7.3"
  }
 },
 "nbformat": 4,
 "nbformat_minor": 4
}
