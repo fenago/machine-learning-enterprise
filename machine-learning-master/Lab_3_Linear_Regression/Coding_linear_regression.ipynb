{
 "cells": [
  {
   "cell_type": "markdown",
   "metadata": {},
   "source": [
    "# Lab 3: Linear Regression for a housing dataset"
   ]
  },
  {
   "cell_type": "markdown",
   "metadata": {},
   "source": [
    "### Importing the necessary packages"
   ]
  },
  {
   "cell_type": "code",
   "execution_count": null,
   "metadata": {},
   "outputs": [],
   "source": [
    "from matplotlib import pyplot as plt\n",
    "import numpy as np\n",
    "import random\n",
    "import utils"
   ]
  },
  {
   "cell_type": "markdown",
   "metadata": {},
   "source": [
    "### Defining and plotting our dataset"
   ]
  },
  {
   "cell_type": "code",
   "execution_count": null,
   "metadata": {},
   "outputs": [],
   "source": [
    "features = np.array([1,2,3,5,6,7])\n",
    "labels = np.array([155, 197, 244, 356,407,448])\n",
    "\n",
    "print(features)\n",
    "print(labels)"
   ]
  },
  {
   "cell_type": "code",
   "execution_count": null,
   "metadata": {},
   "outputs": [],
   "source": [
    "utils.plot_points(features, labels)"
   ]
  },
  {
   "cell_type": "markdown",
   "metadata": {},
   "source": [
    "### Coding the tricks\n",
    "\n",
    "- Simple trick\n",
    "- Absolute trick\n",
    "- Square trick"
   ]
  },
  {
   "cell_type": "code",
   "execution_count": null,
   "metadata": {},
   "outputs": [],
   "source": [
    "def simple_trick(base_price, price_per_room, num_rooms, price):\n",
    "    small_random_1 = random.random()*0.1\n",
    "    small_random_2 = random.random()*0.1\n",
    "    predicted_price = base_price + price_per_room*num_rooms\n",
    "    if price > predicted_price and num_rooms > 0:\n",
    "        price_per_room += small_random_1\n",
    "        base_price += small_random_2\n",
    "    if price > predicted_price and num_rooms < 0:\n",
    "        price_per_room -= small_random_1\n",
    "        base_price += small_random_2\n",
    "    if price < predicted_price and num_rooms > 0:\n",
    "        price_per_room -= small_random_1\n",
    "        base_price -= small_random_2\n",
    "    if price < predicted_price and num_rooms < 0:\n",
    "        price_per_room -= small_random_1\n",
    "        base_price += small_random_2\n",
    "    return price_per_room, base_price"
   ]
  },
  {
   "cell_type": "code",
   "execution_count": null,
   "metadata": {},
   "outputs": [],
   "source": [
    "def absolute_trick(base_price, price_per_room, num_rooms, price, learning_rate):\n",
    "    predicted_price = base_price + price_per_room*num_rooms\n",
    "    if price > predicted_price:\n",
    "        price_per_room += learning_rate*num_rooms\n",
    "        base_price += learning_rate\n",
    "    else:\n",
    "        price_per_room -= learning_rate*num_rooms\n",
    "        base_price -= learning_rate\n",
    "    return price_per_room, base_price"
   ]
  },
  {
   "cell_type": "code",
   "execution_count": null,
   "metadata": {},
   "outputs": [],
   "source": [
    "def square_trick(base_price, price_per_room, num_rooms, price, learning_rate):\n",
    "    predicted_price = base_price + price_per_room*num_rooms\n",
    "    price_per_room += learning_rate*num_rooms*(price-predicted_price)\n",
    "    base_price += learning_rate*(price-predicted_price)\n",
    "    return price_per_room, base_price"
   ]
  },
  {
   "cell_type": "markdown",
   "metadata": {},
   "source": [
    "### Running the linear regression algorithm\n",
    "\n",
    "The linear regression algorithm consists of:\n",
    "- Starting with random weights\n",
    "- Iterating the square (or simple, or absolute) trick many times."
   ]
  },
  {
   "cell_type": "code",
   "execution_count": null,
   "metadata": {},
   "outputs": [],
   "source": [
    "import random\n",
    "\n",
    "# We set the random seed in order to always get the same results.\n",
    "random.seed(0)\n",
    "\n",
    "def linear_regression(features, labels, learning_rate=0.01, epochs = 1000):\n",
    "    price_per_room = random.random()\n",
    "    base_price = random.random()\n",
    "    for epoch in range(epochs):\n",
    "        # Uncomment any of the following lines to plot different epochs\n",
    "        #if epoch == 1:\n",
    "        #if epoch <= 10:\n",
    "        #if epoch <= 50:\n",
    "        #if epoch > 50:\n",
    "        if True:\n",
    "            utils.draw_line(price_per_room, base_price, starting=0, ending=8)\n",
    "        i = random.randint(0, len(features)-1)\n",
    "        num_rooms = features[i]\n",
    "        price = labels[i]\n",
    "        # Uncomment any of the 2 following lines to use a different trick\n",
    "        #price_per_room, base_price = absolute_trick(base_price,\n",
    "        price_per_room, base_price = square_trick(base_price,\n",
    "                                                  price_per_room,\n",
    "                                                  num_rooms,\n",
    "                                                  price,\n",
    "                                                  learning_rate=learning_rate)\n",
    "    utils.draw_line(price_per_room, base_price, 'black', starting=0, ending=8)\n",
    "    utils.plot_points(features, labels)\n",
    "    print('Price per room:', price_per_room)\n",
    "    print('Base price:', base_price)\n",
    "    return price_per_room, base_price\n",
    "\n",
    "# This line is for the x-axis to appear in the figure\n",
    "plt.ylim(0,500)\n",
    "\n",
    "linear_regression(features, labels, learning_rate = 0.01, epochs = 1000)"
   ]
  },
  {
   "cell_type": "markdown",
   "metadata": {},
   "source": [
    "### Root mean squared error function"
   ]
  },
  {
   "cell_type": "code",
   "execution_count": null,
   "metadata": {},
   "outputs": [],
   "source": [
    "# The root mean square error function\n",
    "def rmse(labels, predictions):\n",
    "    n = len(labels)\n",
    "    differences = np.subtract(labels, predictions)\n",
    "    return np.sqrt(1.0/n * (np.dot(differences, differences)))"
   ]
  },
  {
   "cell_type": "markdown",
   "metadata": {},
   "source": [
    "### Plotting the error function"
   ]
  },
  {
   "cell_type": "code",
   "execution_count": null,
   "metadata": {},
   "outputs": [],
   "source": [
    "def linear_regression(features, labels, learning_rate=0.01, epochs = 1000):\n",
    "    price_per_room = random.random()\n",
    "    base_price = random.random()\n",
    "    errors = []\n",
    "    for i in range(epochs):\n",
    "        predictions = features[0]*price_per_room+base_price\n",
    "        errors.append(rmse(labels, predictions))\n",
    "        i = random.randint(0, len(features)-1)\n",
    "        num_rooms = features[i]\n",
    "        price = labels[i]\n",
    "        # Uncomment one of the following 3 lines to use the simple, the absolute, or the square trick\n",
    "        #price_per_room, base_price = simple_trick(base_price,\n",
    "        #price_per_room, base_price = absolute_trick(base_price,\n",
    "        price_per_room, base_price = square_trick(base_price,\n",
    "                                                  price_per_room,\n",
    "                                                  num_rooms,\n",
    "                                                  price,\n",
    "                                                  learning_rate=learning_rate)\n",
    "    utils.draw_line(price_per_room, base_price, 'black', starting=0, ending=9)\n",
    "    utils.plot_points(features, labels)\n",
    "    print('Price per room:', price_per_room)\n",
    "    print('Base price:', base_price)\n",
    "    plt.show()\n",
    "    plt.scatter(range(len(errors)), errors)\n",
    "    plt.show()\n",
    "    return price_per_room, base_price\n",
    "\n",
    "linear_regression(features, labels, learning_rate = 0.01, epochs = 10000)"
   ]
  },
  {
   "cell_type": "markdown",
   "metadata": {},
   "source": [
    "### Linear regression in Turi Create"
   ]
  },
  {
   "cell_type": "code",
   "execution_count": null,
   "metadata": {},
   "outputs": [],
   "source": [
    "import turicreate as tc\n",
    "\n",
    "datadict = {\n",
    "    'features': features,\n",
    "    'labels'  : labels,\n",
    "}\n",
    "\n",
    "data = tc.SFrame(datadict)\n",
    "\n",
    "data"
   ]
  },
  {
   "cell_type": "code",
   "execution_count": null,
   "metadata": {},
   "outputs": [],
   "source": [
    "model = tc.linear_regression.create(data, target='labels')"
   ]
  },
  {
   "cell_type": "code",
   "execution_count": null,
   "metadata": {},
   "outputs": [],
   "source": [
    "model.coefficients"
   ]
  },
  {
   "cell_type": "code",
   "execution_count": null,
   "metadata": {},
   "outputs": [],
   "source": [
    "new_point = tc.SFrame({'features': [4]})\n",
    "\n",
    "model.predict(new_point)"
   ]
  },
  {
   "cell_type": "code",
   "execution_count": null,
   "metadata": {},
   "outputs": [],
   "source": []
  },
  {
   "cell_type": "code",
   "execution_count": null,
   "metadata": {},
   "outputs": [],
   "source": []
  }
 ],
 "metadata": {
  "kernelspec": {
   "display_name": "Python 3",
   "language": "python",
   "name": "python3"
  },
  "language_info": {
   "codemirror_mode": {
    "name": "ipython",
    "version": 3
   },
   "file_extension": ".py",
   "mimetype": "text/x-python",
   "name": "python",
   "nbconvert_exporter": "python",
   "pygments_lexer": "ipython3",
   "version": "3.7.3"
  }
 },
 "nbformat": 4,
 "nbformat_minor": 4
}
