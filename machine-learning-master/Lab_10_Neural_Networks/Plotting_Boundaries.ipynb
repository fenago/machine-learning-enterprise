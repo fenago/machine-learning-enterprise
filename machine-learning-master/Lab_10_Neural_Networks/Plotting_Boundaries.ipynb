{
 "cells": [
  {
   "cell_type": "markdown",
   "metadata": {},
   "source": [
    "# Plotting the boundary of a neural network"
   ]
  },
  {
   "cell_type": "code",
   "execution_count": null,
   "metadata": {},
   "outputs": [],
   "source": [
    "import numpy as np\n",
    "import pandas as pd\n",
    "import matplotlib.pyplot as plt\n",
    "from utils import *"
   ]
  },
  {
   "cell_type": "code",
   "execution_count": null,
   "metadata": {},
   "outputs": [],
   "source": [
    "alien_dataset = pd.DataFrame({\n",
    "    'aack':[1,2,0,0,1,1,2,2],\n",
    "    'beep':[0,0,1,2,1,2,1,2],\n",
    "    'happy': [0,0,0,0,1,1,1,1]})\n",
    "\n",
    "X = alien_dataset[['aack', 'beep']]\n",
    "y = alien_dataset['happy']"
   ]
  },
  {
   "cell_type": "code",
   "execution_count": null,
   "metadata": {},
   "outputs": [],
   "source": [
    "def plot_function(f):\n",
    "    plot_points(X, y, 100)\n",
    "\n",
    "    def h(x,y):\n",
    "        return f(x,y)>=0.5\n",
    "    xx, yy = np.meshgrid(np.arange(-0.5,3,0.005),\n",
    "                         np.arange(-0.5,3,0.005))\n",
    "    Z = np.array([h(i[0], i[1]) for i in np.c_[xx.ravel(), yy.ravel()]])\n",
    "    Z = Z.reshape(xx.shape)\n",
    "    plt.contourf(xx, yy, Z, colors=['red', 'blue'], alpha=0.25, levels=range(-1,2))\n",
    "    plt.contour(xx, yy, Z,colors = 'k',linewidths = 3)\n",
    "    plt.show()"
   ]
  },
  {
   "cell_type": "code",
   "execution_count": null,
   "metadata": {},
   "outputs": [],
   "source": [
    "def step(x):\n",
    "    if x >= 0:\n",
    "        return 1\n",
    "    else:\n",
    "        return 0\n",
    "\n",
    "def line_1(a,b):\n",
    "    return step(6*a + 10*b - 15)\n",
    "\n",
    "def line_2(a,b):\n",
    "    return step(10*a + 6*b - 15)\n",
    "\n",
    "def bias(a,b):\n",
    "    return 1\n",
    "\n",
    "def nn_with_step(a,b):\n",
    "    return step(step(6*a + 10*b - 15) + step(10*a + 6*b - 15) - 1.5)\n",
    "\n",
    "def sigmoid(x):\n",
    "    return np.exp(x)/(1.0 + np.exp(x))\n",
    "\n",
    "def nn_with_sigmoid(a,b):\n",
    "    return sigmoid(1.0*sigmoid(6*a + 10*b - 15) + 1.0*sigmoid(10*a + 6*b - 15) - 1.5)"
   ]
  },
  {
   "cell_type": "markdown",
   "metadata": {},
   "source": [
    "### Boundaries of the first layer (linear classifiers and bias)"
   ]
  },
  {
   "cell_type": "code",
   "execution_count": null,
   "metadata": {},
   "outputs": [],
   "source": [
    "plot_function(line_1)"
   ]
  },
  {
   "cell_type": "code",
   "execution_count": null,
   "metadata": {},
   "outputs": [],
   "source": [
    "plot_function(line_2)"
   ]
  },
  {
   "cell_type": "code",
   "execution_count": null,
   "metadata": {},
   "outputs": [],
   "source": [
    "plot_function(bias)"
   ]
  },
  {
   "cell_type": "markdown",
   "metadata": {},
   "source": [
    "### Boundaries of the second layer (non-linear classifiers)"
   ]
  },
  {
   "cell_type": "code",
   "execution_count": null,
   "metadata": {},
   "outputs": [],
   "source": [
    "plot_function(nn_with_step)"
   ]
  },
  {
   "cell_type": "code",
   "execution_count": null,
   "metadata": {},
   "outputs": [],
   "source": [
    "plot_function(nn_with_sigmoid)"
   ]
  },
  {
   "cell_type": "code",
   "execution_count": null,
   "metadata": {},
   "outputs": [],
   "source": []
  }
 ],
 "metadata": {
  "kernelspec": {
   "display_name": "Python 3",
   "language": "python",
   "name": "python3"
  },
  "language_info": {
   "codemirror_mode": {
    "name": "ipython",
    "version": 3
   },
   "file_extension": ".py",
   "mimetype": "text/x-python",
   "name": "python",
   "nbconvert_exporter": "python",
   "pygments_lexer": "ipython3",
   "version": "3.7.3"
  }
 },
 "nbformat": 4,
 "nbformat_minor": 4
}
