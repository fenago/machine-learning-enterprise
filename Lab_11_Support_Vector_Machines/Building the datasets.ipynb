{
 "cells": [
  {
   "cell_type": "code",
   "execution_count": null,
   "metadata": {},
   "outputs": [],
   "source": [
    "import numpy as np\n",
    "import pandas as pd\n",
    "import sklearn\n",
    "\n",
    "import matplotlib.pyplot as plt\n",
    "\n",
    "# Some functions to plot our points and draw the models\n",
    "def plot_points(features, labels):\n",
    "    X = np.array(features)\n",
    "    y = np.array(labels)\n",
    "    spam = X[np.argwhere(y==1)]\n",
    "    ham = X[np.argwhere(y==0)]\n",
    "    plt.scatter([s[0][0] for s in spam],\n",
    "                [s[0][1] for s in spam],\n",
    "                s = 25,\n",
    "                color = 'cyan',\n",
    "                edgecolor = 'k',\n",
    "                marker = '^')\n",
    "    plt.scatter([s[0][0] for s in ham],\n",
    "                [s[0][1] for s in ham],\n",
    "                s = 25,\n",
    "                color = 'red',\n",
    "                edgecolor = 'k',\n",
    "                marker = 's')"
   ]
  },
  {
   "cell_type": "markdown",
   "metadata": {},
   "source": [
    "## Building a linear dataset"
   ]
  },
  {
   "cell_type": "code",
   "execution_count": null,
   "metadata": {},
   "outputs": [],
   "source": [
    "rows = []\n",
    "\n",
    "import random\n",
    "\n",
    "#Adding points\n",
    "for i in range(50):\n",
    "    x = 6*random.random()-3\n",
    "    y = 6*random.random()-3\n",
    "    z = int(x+y > 0.5)\n",
    "    rows.append([x,y,z])\n",
    "\n",
    "#Adding noise\n",
    "for i in range(10):\n",
    "    x = 6*random.random()-3\n",
    "    y = 6*random.random()-3\n",
    "    z = random.randint(0,1)\n",
    "    rows.append([x,y,z])\n",
    "    \n",
    "df_linear = pd.DataFrame(rows, columns=['x_1', 'x_2', 'y'])\n",
    "\n",
    "plot_points(df_linear[['x_1', 'x_2']], df_linear['y'])\n",
    "\n",
    "df_linear.to_csv('./linear.csv')"
   ]
  },
  {
   "cell_type": "markdown",
   "metadata": {},
   "source": [
    "## Building a circular dataset"
   ]
  },
  {
   "cell_type": "code",
   "execution_count": null,
   "metadata": {},
   "outputs": [],
   "source": [
    "rows = []\n",
    "\n",
    "import random\n",
    "\n",
    "#Adding points\n",
    "for i in range(100):\n",
    "    x = 6*random.random()-3\n",
    "    y = 6*random.random()-3\n",
    "    z = int((x)**2+y**2 < 2.8)\n",
    "    rows.append([x,y,z])\n",
    "\n",
    "#Adding noise\n",
    "for i in range(10):\n",
    "    x = 6*random.random()-3\n",
    "    y = 6*random.random()-3\n",
    "    z = random.randint(0,1)\n",
    "    rows.append([x,y,z])\n",
    "\n",
    "    \n",
    "df_one_circle = pd.DataFrame(rows, columns=['x_1', 'x_2', 'y'])\n",
    "\n",
    "plot_points(df_one_circle[['x_1', 'x_2']], df_one_circle['y'])\n",
    "\n",
    "df_one_circle.to_csv('./one_circle.csv')"
   ]
  },
  {
   "cell_type": "markdown",
   "metadata": {},
   "source": [
    "## Building a two-circles dataset"
   ]
  },
  {
   "cell_type": "code",
   "execution_count": null,
   "metadata": {},
   "outputs": [],
   "source": [
    "import pandas as pd\n",
    "\n",
    "rows = []\n",
    "\n",
    "import random\n",
    "\n",
    "#Adding points\n",
    "for i in range(200):\n",
    "    x = 6*random.random()-3\n",
    "    y = 6*random.random()-3\n",
    "    z = int(((x-1)**2+y**2 < 2) or ((x+1)**2+y**2 < 2))\n",
    "    rows.append([x,y,z])\n",
    "\n",
    "#Adding noise\n",
    "for i in range(20):\n",
    "    x = 6*random.random()-3\n",
    "    y = 6*random.random()-3\n",
    "    z = random.randint(0,1)\n",
    "    rows.append([x,y,z])\n",
    "\n",
    "    \n",
    "df_two_circles = pd.DataFrame(rows, columns=['x_1', 'x_2', 'y'])\n",
    "\n",
    "plot_points(df_two_circles[['x_1', 'x_2']], df_two_circles['y'])\n",
    "\n",
    "df_two_circles.to_csv('./two_circles.csv')"
   ]
  },
  {
   "cell_type": "code",
   "execution_count": null,
   "metadata": {},
   "outputs": [],
   "source": [
    "import pandas as pd\n",
    "\n",
    "rows = []\n",
    "\n",
    "import random\n",
    "\n",
    "#Adding points\n",
    "for i in range(200):\n",
    "    x = 6*random.random()-3\n",
    "    y = 6*random.random()-3\n",
    "    z = int(((x-1)**2+y**2 < 2) or ((x+1)**2+y**2 < 2))\n",
    "    rows.append([x,y,z])\n",
    "\n",
    "#Adding noise\n",
    "for i in range(20):\n",
    "    x = 6*random.random()-3\n",
    "    y = 6*random.random()-3\n",
    "    z = random.randint(0,1)\n",
    "    rows.append([x,y,z])\n",
    "\n",
    "    \n",
    "df_two_circles = pd.DataFrame(rows, columns=['x_1', 'x_2', 'y'])\n",
    "\n",
    "plot_points(df_two_circles[['x_1', 'x_2']], df_two_circles['y'])\n",
    "\n",
    "#df_two_circles.to_csv('./two_circles_zapata.csv')"
   ]
  },
  {
   "cell_type": "code",
   "execution_count": null,
   "metadata": {},
   "outputs": [],
   "source": [
    "df_two_circles.to_csv('./two_circles_zapata.csv')"
   ]
  },
  {
   "cell_type": "code",
   "execution_count": null,
   "metadata": {},
   "outputs": [],
   "source": []
  }
 ],
 "metadata": {
  "kernelspec": {
   "display_name": "Python 3",
   "language": "python",
   "name": "python3"
  },
  "language_info": {
   "codemirror_mode": {
    "name": "ipython",
    "version": 3
   },
   "file_extension": ".py",
   "mimetype": "text/x-python",
   "name": "python",
   "nbconvert_exporter": "python",
   "pygments_lexer": "ipython3",
   "version": "3.7.3"
  }
 },
 "nbformat": 4,
 "nbformat_minor": 2
}
