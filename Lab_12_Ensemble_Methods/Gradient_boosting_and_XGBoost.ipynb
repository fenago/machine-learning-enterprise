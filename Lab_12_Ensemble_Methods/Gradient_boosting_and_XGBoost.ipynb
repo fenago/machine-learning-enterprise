{
 "cells": [
  {
   "cell_type": "code",
   "execution_count": null,
   "metadata": {},
   "outputs": [],
   "source": [
    "import numpy as np\n",
    "import pandas as pd\n",
    "from sklearn.tree import DecisionTreeRegressor\n",
    "from sklearn.ensemble import GradientBoostingRegressor\n",
    "import utils\n",
    "import sklearn\n",
    "from sklearn import tree\n",
    "import matplotlib.pyplot as plt"
   ]
  },
  {
   "cell_type": "code",
   "execution_count": null,
   "metadata": {},
   "outputs": [],
   "source": [
    "features = np.array([[10],[20],[30],[40],[50],[60],[70],[80]])\n",
    "labels = np.array([7,5,7,1,2,1,5,4])"
   ]
  },
  {
   "cell_type": "code",
   "execution_count": null,
   "metadata": {},
   "outputs": [],
   "source": [
    "plt.scatter(features, labels)\n",
    "plt.xlabel(\"Age\")\n",
    "plt.ylabel(\"Days per week\")\n",
    "plt.show()"
   ]
  },
  {
   "cell_type": "markdown",
   "metadata": {},
   "source": [
    "# Fitting a decision tree"
   ]
  },
  {
   "cell_type": "code",
   "execution_count": null,
   "metadata": {},
   "outputs": [],
   "source": [
    "decision_tree_regressor = DecisionTreeRegressor(max_depth=2)\n",
    "decision_tree_regressor.fit(features, labels)"
   ]
  },
  {
   "cell_type": "code",
   "execution_count": null,
   "metadata": {},
   "outputs": [],
   "source": [
    "utils.display_tree(decision_tree_regressor)"
   ]
  },
  {
   "cell_type": "code",
   "execution_count": null,
   "metadata": {},
   "outputs": [],
   "source": [
    "utils.plot_regressor(decision_tree_regressor, features, labels)"
   ]
  },
  {
   "cell_type": "markdown",
   "metadata": {},
   "source": [
    "# Gradient boosting"
   ]
  },
  {
   "cell_type": "code",
   "execution_count": null,
   "metadata": {},
   "outputs": [],
   "source": [
    "# First weak learner\n",
    "x = np.linspace(0,85,2)\n",
    "plt.scatter(features, labels)\n",
    "plt.plot(x, [4 for i in range(len(x))])\n",
    "plt.scatter(features, labels, color='blue')"
   ]
  },
  {
   "cell_type": "code",
   "execution_count": null,
   "metadata": {},
   "outputs": [],
   "source": [
    "gradient_boosting_regressor = GradientBoostingRegressor(max_depth=2, n_estimators=4, learning_rate=0.8)\n",
    "gradient_boosting_regressor.fit(features, labels)\n",
    "gradient_boosting_regressor.predict(features)"
   ]
  },
  {
   "cell_type": "code",
   "execution_count": null,
   "metadata": {},
   "outputs": [],
   "source": [
    "utils.plot_regressor(gradient_boosting_regressor, features, labels)"
   ]
  },
  {
   "cell_type": "code",
   "execution_count": null,
   "metadata": {},
   "outputs": [],
   "source": [
    "predictions_estimators = []\n",
    "predictions = np.zeros(8)\n",
    "centered_labels = labels-labels.mean()\n",
    "residuals = [centered_labels]\n",
    "for i in range(len(gradient_boosting_regressor.estimators_)):\n",
    "    weak_learner = gradient_boosting_regressor.estimators_[i][0]\n",
    "    print(\"\\n\"+\"*\"*50+\"\\n\")\n",
    "    print(\"Weak learner\", i+1)\n",
    "    preds = weak_learner.predict(features)\n",
    "    predictions_estimators.append(preds)\n",
    "    print(\"Residuals to predict:\", residuals[-1])\n",
    "    print(\"Predictions:\", preds)\n",
    "    predictions += preds*0.8\n",
    "    #plt.scatter(features, predictions)\n",
    "    #plt.scatter(features, residuals[-1])\n",
    "    #utils.plot_regressor(tree[0], features, centered_labels)\n",
    "    plt.scatter(features, centered_labels, color='white')\n",
    "    utils.plot_regressor(weak_learner, features, residuals[-1])\n",
    "    plt.show()\n",
    "    residuals.append(centered_labels-predictions)\n",
    "    print(\"New residuals:\", residuals[-1])"
   ]
  },
  {
   "cell_type": "markdown",
   "metadata": {},
   "source": [
    "Predictions of the first i learners"
   ]
  },
  {
   "cell_type": "code",
   "execution_count": null,
   "metadata": {},
   "outputs": [],
   "source": [
    "for i in range(1,5):\n",
    "    print(\"Up to weak learner number\", i)\n",
    "    gb_intermediate = GradientBoostingRegressor(max_depth=2, n_estimators=i, learning_rate=0.8)\n",
    "    gb_intermediate.fit(features, labels)\n",
    "    predictions = gb_intermediate.predict(features)\n",
    "    utils.plot_regressor(gb_intermediate, features, labels)"
   ]
  },
  {
   "cell_type": "code",
   "execution_count": null,
   "metadata": {},
   "outputs": [],
   "source": [
    "for tree in gradient_boosting_regressor.estimators_:\n",
    "    sklearn.tree.plot_tree(tree[0], rounded=True)\n",
    "    plt.show()"
   ]
  },
  {
   "cell_type": "code",
   "execution_count": null,
   "metadata": {},
   "outputs": [],
   "source": [
    "utils.display_tree(gradient_boosting_regressor.estimators_[0][0])"
   ]
  },
  {
   "cell_type": "code",
   "execution_count": null,
   "metadata": {},
   "outputs": [],
   "source": [
    "utils.display_tree(gradient_boosting_regressor.estimators_[1][0])"
   ]
  },
  {
   "cell_type": "code",
   "execution_count": null,
   "metadata": {},
   "outputs": [],
   "source": [
    "utils.display_tree(gradient_boosting_regressor.estimators_[2][0])"
   ]
  },
  {
   "cell_type": "code",
   "execution_count": null,
   "metadata": {},
   "outputs": [],
   "source": [
    "utils.display_tree(gradient_boosting_regressor.estimators_[3][0])"
   ]
  },
  {
   "cell_type": "markdown",
   "metadata": {},
   "source": [
    "# XGBoost"
   ]
  },
  {
   "cell_type": "code",
   "execution_count": null,
   "metadata": {},
   "outputs": [],
   "source": [
    "import xgboost\n",
    "from xgboost import XGBRegressor\n",
    "xgboost_regressor = XGBRegressor(random_state=0,\n",
    "                             n_estimators=3,\n",
    "                             max_depth=2,\n",
    "                             reg_lambda=0,\n",
    "                             min_split_loss=1,\n",
    "                             learning_rate=0.7)\n",
    "xgboost_regressor.fit(features, labels)\n",
    "xgboost_regressor.score(features, labels)"
   ]
  },
  {
   "cell_type": "code",
   "execution_count": null,
   "metadata": {},
   "outputs": [],
   "source": [
    "utils.plot_regressor(xgboost_regressor, features, labels)"
   ]
  },
  {
   "cell_type": "code",
   "execution_count": null,
   "metadata": {},
   "outputs": [],
   "source": [
    "xgboost.to_graphviz(xgboost_regressor, num_trees=0)"
   ]
  },
  {
   "cell_type": "code",
   "execution_count": null,
   "metadata": {},
   "outputs": [],
   "source": [
    "xgboost.to_graphviz(xgboost_regressor, num_trees=1)"
   ]
  },
  {
   "cell_type": "code",
   "execution_count": null,
   "metadata": {},
   "outputs": [],
   "source": [
    "xgboost.to_graphviz(xgboost_regressor, num_trees=2)"
   ]
  },
  {
   "cell_type": "code",
   "execution_count": null,
   "metadata": {},
   "outputs": [],
   "source": [
    "xgboost_regressor.predict(features)"
   ]
  },
  {
   "cell_type": "markdown",
   "metadata": {},
   "source": [
    "# Calculations of similarity score"
   ]
  },
  {
   "cell_type": "code",
   "execution_count": null,
   "metadata": {},
   "outputs": [],
   "source": [
    "residuals = labels-0.5\n",
    "residuals"
   ]
  },
  {
   "cell_type": "code",
   "execution_count": null,
   "metadata": {},
   "outputs": [],
   "source": [
    "def score(l, lam=0):\n",
    "    if len(l)==0:\n",
    "        return 0\n",
    "    return sum(l)**2/(len(l)+lam)"
   ]
  },
  {
   "cell_type": "code",
   "execution_count": null,
   "metadata": {},
   "outputs": [],
   "source": [
    "score(residuals, lam=0)"
   ]
  },
  {
   "cell_type": "code",
   "execution_count": null,
   "metadata": {},
   "outputs": [],
   "source": [
    "lam = 0\n",
    "for i in range(len(residuals)):\n",
    "    left = residuals[:i]\n",
    "    right = residuals[i:]\n",
    "    print(left, right)\n",
    "    print(score(left), score(right))\n",
    "    print(score(left, lam)+score(right, lam))\n",
    "    print()"
   ]
  },
  {
   "cell_type": "code",
   "execution_count": null,
   "metadata": {},
   "outputs": [],
   "source": [
    "left_tree = [6.5, 4.5, 6.5]\n",
    "right_tree = [0.5, 1.5, 0.5, 4.5, 3.5]"
   ]
  },
  {
   "cell_type": "code",
   "execution_count": null,
   "metadata": {},
   "outputs": [],
   "source": [
    "residuals = left_tree\n",
    "print(score(residuals))\n",
    "for i in range(len(residuals)):\n",
    "    left = residuals[:i]\n",
    "    right = residuals[i:]\n",
    "    print(left, right)\n",
    "    print(score(left), score(right))\n",
    "    print(score(left, lam)+score(right, lam))\n",
    "    print()"
   ]
  },
  {
   "cell_type": "code",
   "execution_count": null,
   "metadata": {},
   "outputs": [],
   "source": [
    "residuals = right_tree\n",
    "print(residuals)\n",
    "for i in range(len(residuals)):\n",
    "    left = residuals[:i]\n",
    "    right = residuals[i:]\n",
    "    print(left, right)\n",
    "    print(score(left), score(right))\n",
    "    print(score(left, lam)+score(right, lam))\n",
    "    print()"
   ]
  },
  {
   "cell_type": "code",
   "execution_count": null,
   "metadata": {},
   "outputs": [],
   "source": []
  },
  {
   "cell_type": "code",
   "execution_count": null,
   "metadata": {},
   "outputs": [],
   "source": []
  }
 ],
 "metadata": {
  "kernelspec": {
   "display_name": "Python 3",
   "language": "python",
   "name": "python3"
  },
  "language_info": {
   "codemirror_mode": {
    "name": "ipython",
    "version": 3
   },
   "file_extension": ".py",
   "mimetype": "text/x-python",
   "name": "python",
   "nbconvert_exporter": "python",
   "pygments_lexer": "ipython3",
   "version": "3.7.3"
  }
 },
 "nbformat": 4,
 "nbformat_minor": 4
}
