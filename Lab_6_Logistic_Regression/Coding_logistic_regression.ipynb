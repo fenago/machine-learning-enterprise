{
 "cells": [
  {
   "cell_type": "markdown",
   "metadata": {},
   "source": [
    "# Sentiment analysis with Logistic Regression\n",
    "\n",
    "### Some plotting functions"
   ]
  },
  {
   "cell_type": "code",
   "execution_count": null,
   "metadata": {},
   "outputs": [],
   "source": [
    "# Importing packages\n",
    "from matplotlib import pyplot as plt\n",
    "import numpy as np\n",
    "import random\n",
    "import utils"
   ]
  },
  {
   "cell_type": "code",
   "execution_count": null,
   "metadata": {},
   "outputs": [],
   "source": [
    "import numpy as np\n",
    "features = np.array([[1,0],[0,2],[1,1],[1,2],[1,3],[2,2],[3,2],[2,3]])\n",
    "labels = np.array([0,0,0,0,1,1,1,1])"
   ]
  },
  {
   "cell_type": "code",
   "execution_count": null,
   "metadata": {},
   "outputs": [],
   "source": [
    "# Plotting the points\n",
    "utils.plot_points(features, labels)\n",
    "\n",
    "# Uncomment the following line to see a good line fit for this data.\n",
    "#utils.draw_line(1,1,-3.5)"
   ]
  },
  {
   "cell_type": "markdown",
   "metadata": {},
   "source": [
    "### Logistic regression"
   ]
  },
  {
   "cell_type": "code",
   "execution_count": null,
   "metadata": {},
   "outputs": [],
   "source": [
    "def sigmoid(x):\n",
    "    # Note, in the book it appears as 1/(1+np.exp(-x)). Both expressions are equivalent, but the expression\n",
    "    # below behaves better with small floating point numbers.\n",
    "    return np.exp(x)/(1+np.exp(x))\n",
    "\n",
    "def score(weights, bias, features):\n",
    "    return np.dot(weights, features) + bias\n",
    "\n",
    "def prediction(weights, bias, features):\n",
    "    return sigmoid(score(weights, bias, features))\n",
    "\n",
    "def log_loss(weights, bias, features, label):\n",
    "    pred = 1.0*prediction(weights, bias, features)\n",
    "    return -label*np.log(pred) - (1-label)*np.log(1-pred)\n",
    "\n",
    "def total_log_loss(weights, bias, features, labels):\n",
    "    total_error = 0\n",
    "    for i in range(len(features)):\n",
    "        total_error += log_loss(weights, bias, features[i], labels[i])\n",
    "    return total_error"
   ]
  },
  {
   "cell_type": "code",
   "execution_count": null,
   "metadata": {},
   "outputs": [],
   "source": [
    "# Alternate way of writing log-loss\n",
    "\n",
    "def soft_relu(x):\n",
    "    return np.log(1+np.exp(x))\n",
    "\n",
    "def alternate_log_loss(weights, bias, features, label):\n",
    "    pred = prediction(weights, bias, features)\n",
    "    return soft_relu((pred-label)*score(weights, bias, features))\n",
    "\n",
    "def total_alternate_log_loss(weights, bias, features, labels):\n",
    "    total_error = 0\n",
    "    for i in range(len(features)):\n",
    "        total_error += log_loss(weights, bias, features[i], labels[i])\n",
    "    return total_error"
   ]
  },
  {
   "cell_type": "code",
   "execution_count": null,
   "metadata": {},
   "outputs": [],
   "source": [
    "def logistic_trick(weights, bias, features, label, learning_rate = 0.01):\n",
    "    pred = prediction(weights, bias, features)\n",
    "    for i in range(len(weights)):\n",
    "        weights[i] += (label-pred)*features[i]*learning_rate\n",
    "        bias += (label-pred)*learning_rate\n",
    "    return weights, bias"
   ]
  },
  {
   "cell_type": "code",
   "execution_count": null,
   "metadata": {},
   "outputs": [],
   "source": [
    "def logistic_regression_algorithm(features, labels, learning_rate = 0.01, epochs = 1000):\n",
    "    utils.plot_points(features, labels)\n",
    "    weights = [1.0 for i in range(len(features[0]))]\n",
    "    bias = 0.0\n",
    "    errors = []\n",
    "    for i in range(epochs):\n",
    "        # Comment the following line of code to remove the plots of all the classifiers\n",
    "        utils.draw_line(weights[0], weights[1], bias, color='grey', linewidth=0.1, linestyle='dotted')\n",
    "        errors.append(total_log_loss(weights, bias, features, labels))\n",
    "        j = random.randint(0, len(features)-1)\n",
    "        weights, bias = logistic_trick(weights, bias, features[j], labels[j])\n",
    "    utils.draw_line(weights[0], weights[1], bias)\n",
    "    plt.show()\n",
    "    plt.scatter(range(epochs), errors)\n",
    "    plt.xlabel('epochs')\n",
    "    plt.ylabel('error')\n",
    "    return weights, bias"
   ]
  },
  {
   "cell_type": "code",
   "execution_count": null,
   "metadata": {},
   "outputs": [],
   "source": [
    "logistic_regression_algorithm(features, labels)"
   ]
  },
  {
   "cell_type": "markdown",
   "metadata": {},
   "source": [
    "# Logistic regression using Turi Create"
   ]
  },
  {
   "cell_type": "code",
   "execution_count": null,
   "metadata": {},
   "outputs": [],
   "source": [
    "import turicreate as tc\n",
    "\n",
    "data = tc.SFrame({'x1': features[:,0], 'x2': features[:,1], 'y': labels})\n",
    "data"
   ]
  },
  {
   "cell_type": "code",
   "execution_count": null,
   "metadata": {},
   "outputs": [],
   "source": [
    "classifier = tc.logistic_classifier.create(data,\n",
    "                                           features = ['x1', 'x2'],\n",
    "                                           target = 'y',\n",
    "                                           validation_set=None)"
   ]
  },
  {
   "cell_type": "code",
   "execution_count": null,
   "metadata": {},
   "outputs": [],
   "source": [
    "print(\"Model coefficients\", classifier.coefficients)"
   ]
  },
  {
   "cell_type": "code",
   "execution_count": null,
   "metadata": {},
   "outputs": [],
   "source": [
    "intercept, w1, w2 = classifier.coefficients['value']\n",
    "\n",
    "utils.plot_points(features, labels)\n",
    "utils.draw_line(w1, w2, intercept)"
   ]
  },
  {
   "cell_type": "code",
   "execution_count": null,
   "metadata": {},
   "outputs": [],
   "source": []
  }
 ],
 "metadata": {
  "kernelspec": {
   "display_name": "Python 3",
   "language": "python",
   "name": "python3"
  },
  "language_info": {
   "codemirror_mode": {
    "name": "ipython",
    "version": 3
   },
   "file_extension": ".py",
   "mimetype": "text/x-python",
   "name": "python",
   "nbconvert_exporter": "python",
   "pygments_lexer": "ipython3",
   "version": "3.7.3"
  }
 },
 "nbformat": 4,
 "nbformat_minor": 2
}
