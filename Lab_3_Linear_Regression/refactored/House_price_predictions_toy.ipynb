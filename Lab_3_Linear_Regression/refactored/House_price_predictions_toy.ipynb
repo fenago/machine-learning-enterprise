{
 "cells": [
  {
   "cell_type": "markdown",
   "metadata": {},
   "source": [
    "# House predictions with linear regression using a toy dataset"
   ]
  },
  {
   "cell_type": "code",
   "execution_count": null,
   "metadata": {},
   "outputs": [],
   "source": [
    "%run Coding_linear_regression.ipynb \n",
    "# allows us to use the functions we wrote\n",
    "\n",
    "import numpy\n",
    "import matplotlib.pyplot as plt"
   ]
  },
  {
   "cell_type": "markdown",
   "metadata": {},
   "source": [
    "### Defining and plotting our dataset\n",
    "\n",
    "Let's see how various implementations of Linear Regression work on our toy dataset."
   ]
  },
  {
   "cell_type": "code",
   "execution_count": null,
   "metadata": {},
   "outputs": [],
   "source": [
    "num_rooms = numpy.array([1,2,3,5,6,7])\n",
    "price_rooms = numpy.array([155, 197, 244, 356,407,448])\n",
    "\n",
    "dict_data = {\n",
    "    'features': num_rooms,\n",
    "    'labels'  : price_rooms,\n",
    "}\n",
    "\n",
    "print(dict_data)\n",
    "\n",
    "plot_scatter(dict_data['features'], dict_data['labels'], \"Number of Rooms\", \"Price Per Room\")\n",
    "plt.show()"
   ]
  },
  {
   "cell_type": "markdown",
   "metadata": {},
   "source": [
    "### Linear Regression: Using our tricks\n",
    "\n",
    "We'll call the implementation we wrote in the other notebook along with some of its functions."
   ]
  },
  {
   "cell_type": "code",
   "execution_count": null,
   "metadata": {},
   "outputs": [],
   "source": [
    "# We set the random seed in order to always get the same results.\n",
    "numpy.random.seed(0)\n",
    "\n",
    "# This line is for the x-axis to appear in the figure\n",
    "plt.ylim(0,500)\n",
    "slope, bias = linear_regression(\n",
    "    dict_data['features'],\n",
    "    dict_data['labels'],\n",
    "    trick_function = absolute_trick,\n",
    "    learning_rate = 0.05,\n",
    "    error_metric = rmse,\n",
    "    epochs = 1000)\n",
    "print('Price per room:', slope)\n",
    "print('Base price:', bias)\n",
    "\n",
    "# This line is for the x-axis to appear in the figure\n",
    "plt.ylim(0,500)\n",
    "slope, bias = linear_regression(\n",
    "    dict_data['features'],\n",
    "    dict_data['labels'],\n",
    "    trick_function = square_trick,\n",
    "    learning_rate = 0.01,\n",
    "    error_metric = rmse,\n",
    "    epochs = 10000)\n",
    "print('Price per room:', slope)\n",
    "print('Base price:', bias)"
   ]
  },
  {
   "cell_type": "markdown",
   "metadata": {},
   "source": [
    "### Linear Regression: Using Turi Create\n",
    "\n",
    "You can install turicreate on Linux and Mac. Works on Windows via WSL."
   ]
  },
  {
   "cell_type": "code",
   "execution_count": null,
   "metadata": {},
   "outputs": [],
   "source": [
    "import turicreate as tc\n",
    "\n",
    "data = tc.SFrame(dict_data)"
   ]
  },
  {
   "cell_type": "code",
   "execution_count": null,
   "metadata": {},
   "outputs": [],
   "source": [
    "data"
   ]
  },
  {
   "cell_type": "code",
   "execution_count": null,
   "metadata": {},
   "outputs": [],
   "source": [
    "model = tc.linear_regression.create(data, target='labels')"
   ]
  },
  {
   "cell_type": "code",
   "execution_count": null,
   "metadata": {},
   "outputs": [],
   "source": [
    "model.coefficients"
   ]
  },
  {
   "cell_type": "code",
   "execution_count": null,
   "metadata": {},
   "outputs": [],
   "source": [
    "new_point = tc.SFrame({'features': [4]})"
   ]
  },
  {
   "cell_type": "code",
   "execution_count": null,
   "metadata": {},
   "outputs": [],
   "source": [
    "model.predict(new_point)"
   ]
  },
  {
   "cell_type": "markdown",
   "metadata": {},
   "source": [
    "### Linear Regression: Using statsmodels"
   ]
  },
  {
   "cell_type": "code",
   "execution_count": null,
   "metadata": {},
   "outputs": [],
   "source": [
    "import statsmodels.api as sm\n",
    "\n",
    "# statsmodels doesn't automatically add an intercept (constant bias) column,\n",
    "# so we have to add that ourselves.\n",
    "exog = sm.add_constant(dict_data['features']) # adds an intercept column\n",
    "model_linear_regression = sm.OLS(\n",
    "    endog = dict_data['labels'], \n",
    "    exog = exog)\n",
    "results_linear_regression = model_linear_regression.fit()"
   ]
  },
  {
   "cell_type": "code",
   "execution_count": null,
   "metadata": {},
   "outputs": [],
   "source": [
    "results_linear_regression.summary()"
   ]
  },
  {
   "cell_type": "code",
   "execution_count": null,
   "metadata": {},
   "outputs": [],
   "source": [
    "results_linear_regression.params # base-price and price per room"
   ]
  },
  {
   "cell_type": "code",
   "execution_count": null,
   "metadata": {},
   "outputs": [],
   "source": [
    "plot_scatter(\n",
    "    results_linear_regression.fittedvalues, \n",
    "    results_linear_regression.resid,\n",
    "    x_label = \"Fitted Values\",\n",
    "    y_label = \"Residual Values\")\n",
    "plt.show()\n",
    "\n",
    "# Not sure why it plots twice\n",
    "sm.qqplot(results_linear_regression.resid_pearson, line = \"q\")"
   ]
  },
  {
   "cell_type": "code",
   "execution_count": null,
   "metadata": {},
   "outputs": [],
   "source": []
  }
 ],
 "metadata": {
  "kernelspec": {
   "display_name": "Python 3",
   "language": "python",
   "name": "python3"
  },
  "language_info": {
   "codemirror_mode": {
    "name": "ipython",
    "version": 3
   },
   "file_extension": ".py",
   "mimetype": "text/x-python",
   "name": "python",
   "nbconvert_exporter": "python",
   "pygments_lexer": "ipython3",
   "version": "3.7.3"
  }
 },
 "nbformat": 4,
 "nbformat_minor": 5
}
